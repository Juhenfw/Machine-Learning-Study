{
 "cells": [
  {
   "cell_type": "code",
   "execution_count": null,
   "metadata": {},
   "outputs": [],
   "source": [
    "import numpy as np\n",
    "import matplotlib.pyplot as plt\n",
    "import pandas as pd\n",
    "\n",
    "# Load dataset\n",
    "df = pd.read_csv('D:/Materi Kuliah UNAIR/Semester 5/Pembelajaran Mesin (Praktikum) RK-A2/modified_auto_mpg.csv')\n",
    "\n",
    "# Set pandas options to display all rows and columns\n",
    "pd.set_option('display.max_rows', None)   # Menampilkan semua baris\n",
    "pd.set_option('display.max_columns', None) # Menampilkan semua kolom\n",
    "\n",
    "# Print the DataFrame\n",
    "df"
   ]
  },
  {
   "cell_type": "code",
   "execution_count": null,
   "metadata": {},
   "outputs": [],
   "source": [
    "# Convert 'horsepower' to numeric, coercing errors to NaN\n",
    "df['horsepower'] = pd.to_numeric(df['horsepower'], errors='coerce')\n",
    "\n",
    "df"
   ]
  },
  {
   "cell_type": "code",
   "execution_count": null,
   "metadata": {},
   "outputs": [],
   "source": [
    "# Calculate mean, max, min, and mode for attributes 1-8\n",
    "summary_stats = {\n",
    "    \"Mean\": df.iloc[:, :8].mean(),\n",
    "    \"Max\": df.iloc[:, :8].max(),\n",
    "    \"Min\": df.iloc[:, :8].min(),\n",
    "    \"Mode\": df.iloc[:, :8].mode().iloc[0]  # Taking the first mode\n",
    "}\n",
    "\n",
    "# Convert to DataFrame for easier viewing\n",
    "summary_stats_df = pd.DataFrame(summary_stats)\n",
    "\n",
    "# Diagnose missing values and NaNs\n",
    "missing_values = df.iloc[:, :8].isna().sum()\n",
    "\n",
    "# Combine the results\n",
    "summary_stats_df['Missing Value/NaN'] = missing_values\n",
    "\n",
    "# Display the dataframe in the console\n",
    "print(summary_stats_df)\n",
    "\n",
    "# Optionally, save the dataframe to a CSV file\n",
    "summary_stats_df.to_csv('summary_statistics.csv', index=False)\n",
    "\n",
    "# Handle missing values\n",
    "# 1. Replace missing 'mpg' values with the mean\n",
    "mpg_mean = df['mpg'].mean()\n",
    "df['mpg'] = df['mpg'].fillna(mpg_mean)\n",
    "\n",
    "# 2. Replace missing 'horsepower' values with the mode\n",
    "horsepower_mode = df['horsepower'].mode()[0]\n",
    "df['horsepower'] = df['horsepower'].fillna(horsepower_mode)\n",
    "\n",
    "# Check for missing values again\n",
    "missing_values_after = df.isna().sum()\n",
    "\n",
    "# Display the updated missing values count\n",
    "print(\"\\nMissing values after handling:\")\n",
    "print(missing_values_after)"
   ]
  },
  {
   "cell_type": "code",
   "execution_count": null,
   "metadata": {},
   "outputs": [],
   "source": [
    "# Function to calculate outliers using the IQR method\n",
    "def calculate_outliers(series):\n",
    "    Q1 = series.quantile(0.25)\n",
    "    Q3 = series.quantile(0.75)\n",
    "    IQR = Q3 - Q1\n",
    "    lower_bound = Q1 - 1.5 * IQR\n",
    "    upper_bound = Q3 + 1.5 * IQR\n",
    "    outliers = series[(series < lower_bound) | (series > upper_bound)]\n",
    "    return len(outliers)\n",
    "\n",
    "# Applying the outlier calculation for each attribute (1-8)\n",
    "outliers_count = df.iloc[:, :8].apply(calculate_outliers)\n",
    "\n",
    "# Convert to DataFrame and display or save\n",
    "outliers_count_df = outliers_count.to_frame(name='Outliers Count')\n",
    "\n",
    "# Display the dataframe in the console\n",
    "print(outliers_count_df)\n",
    "\n",
    "# Optionally, save the dataframe to a CSV file\n",
    "outliers_count_df.to_csv('outliers_count.csv', index=False)\n",
    "\n",
    "df"
   ]
  }
 ],
 "metadata": {
  "kernelspec": {
   "display_name": "myenv2",
   "language": "python",
   "name": "python3"
  },
  "language_info": {
   "codemirror_mode": {
    "name": "ipython",
    "version": 3
   },
   "file_extension": ".py",
   "mimetype": "text/x-python",
   "name": "python",
   "nbconvert_exporter": "python",
   "pygments_lexer": "ipython3",
   "version": "3.10.0"
  }
 },
 "nbformat": 4,
 "nbformat_minor": 2
}
